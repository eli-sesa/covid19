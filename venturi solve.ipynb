{
 "cells": [
  {
   "cell_type": "code",
   "execution_count": 167,
   "metadata": {},
   "outputs": [],
   "source": [
    "import numpy as np\n",
    "import sympy\n",
    "from sympy import symbols, expand, simplify, solve\n",
    "sympy.init_printing()"
   ]
  },
  {
   "cell_type": "code",
   "execution_count": 176,
   "metadata": {},
   "outputs": [],
   "source": [
    "rho = symbols('rho')\n",
    "pa, p1, pj, p2, pb = symbols('pa, p1, pj, p2, pb')\n",
    "va, v1, vj, v2, vb = symbols('va, v1, vj, v2, vb',positive=True)\n",
    "a1, aj, a2 = symbols('a1, aj, a2',positive=True) \n",
    "F = symbols('F',positive=True)\n",
    "Delta_p = symbols('Delta_p')"
   ]
  },
  {
   "cell_type": "code",
   "execution_count": 189,
   "metadata": {},
   "outputs": [
    {
     "data": {
      "image/png": "[encoded data removed]",
      "text/latex": [
       "$\\displaystyle \\frac{a_{1} v_{1}}{a_{2} v_{2}}$"
      ],
      "text/plain": [
       "a₁⋅v₁\n",
       "─────\n",
       "a₂⋅v₂"
      ]
     },
     "execution_count": 189,
     "metadata": {},
     "output_type": "execute_result"
    }
   ],
   "source": [
    "mass = (-vj*aj -v1*a1 + v2*a2)\n",
    "momentum = rho * (-aj*v1**2 + -a1*v1**2 + a2*v2**2) - ( p1*aj + p1*a1 -pb*a2)\n",
    "fio2 = (v1*a1) / (v2*a2) - F\n",
    "\n",
    "v2_expr = solve(mass, v2)[0]\n",
    "F_expr = solve(fio2, F)[0]\n",
    "F_expr"
   ]
  },
  {
   "cell_type": "code",
   "execution_count": 190,
   "metadata": {},
   "outputs": [
    {
     "data": {
      "image/png": "[encoded data removed]",
      "text/latex": [
       "$\\displaystyle a_{2} pb - aj p_{1} - p_{1} \\left(a_{2} - aj\\right) + \\rho \\left(- aj v_{1}^{2} - v_{1}^{2} \\left(a_{2} - aj\\right) + \\frac{\\left(aj vj + v_{1} \\left(a_{2} - aj\\right)\\right)^{2}}{a_{2}}\\right)$"
      ],
      "text/plain": [
       "                                 ⎛                                            \n",
       "                                 ⎜       2     2             (aj⋅vj + v₁⋅(a₂ -\n",
       "a₂⋅pb - aj⋅p₁ - p₁⋅(a₂ - aj) + ρ⋅⎜- aj⋅v₁  - v₁ ⋅(a₂ - aj) + ─────────────────\n",
       "                                 ⎝                                      a₂    \n",
       "\n",
       "     2⎞\n",
       " aj)) ⎟\n",
       "──────⎟\n",
       "      ⎠"
      ]
     },
     "execution_count": 190,
     "metadata": {},
     "output_type": "execute_result"
    }
   ],
   "source": [
    "\n",
    "momentum = momentum.subs(v2, v2_expr)\n",
    "momentum = momentum.subs(a1, a2-aj)\n",
    "mass = mass.subs(a1, a2-aj)\n",
    "momentum"
   ]
  },
  {
   "cell_type": "code",
   "execution_count": 191,
   "metadata": {},
   "outputs": [],
   "source": [
    "v1_expr, vj_expr = solve([mass, momentum], (v1, vj))[0]"
   ]
  },
  {
   "cell_type": "code",
   "execution_count": 192,
   "metadata": {},
   "outputs": [
    {
     "data": {
      "image/png": "[encoded data removed]",
      "text/latex": [
       "$\\displaystyle \\frac{a_{2} v_{2} - aj \\left(\\frac{a_{2} v_{2}}{aj} - \\frac{\\sqrt{- \\rho \\left(p_{1} - pb - \\rho v_{2}^{2}\\right)} \\left(a_{2} - aj\\right)}{aj \\rho}\\right)}{a_{2} - aj}$"
      ],
      "text/plain": [
       "           ⎛           ______________________          ⎞\n",
       "           ⎜          ╱    ⎛              2⎞           ⎟\n",
       "           ⎜a₂⋅v₂   ╲╱  -ρ⋅⎝p₁ - pb - ρ⋅v₂ ⎠ ⋅(a₂ - aj)⎟\n",
       "a₂⋅v₂ - aj⋅⎜───── - ───────────────────────────────────⎟\n",
       "           ⎝  aj                    aj⋅ρ               ⎠\n",
       "────────────────────────────────────────────────────────\n",
       "                        a₂ - aj                         "
      ]
     },
     "execution_count": 192,
     "metadata": {},
     "output_type": "execute_result"
    }
   ],
   "source": [
    "v1_expr"
   ]
  },
  {
   "cell_type": "code",
   "execution_count": 193,
   "metadata": {},
   "outputs": [
    {
     "data": {
      "image/png": "[encoded data removed]",
      "text/latex": [
       "$\\displaystyle \\frac{a_{2} v_{2}}{aj} - \\frac{\\sqrt{- \\rho \\left(p_{1} - pb - \\rho v_{2}^{2}\\right)} \\left(a_{2} - aj\\right)}{aj \\rho}$"
      ],
      "text/plain": [
       "           ______________________          \n",
       "          ╱    ⎛              2⎞           \n",
       "a₂⋅v₂   ╲╱  -ρ⋅⎝p₁ - pb - ρ⋅v₂ ⎠ ⋅(a₂ - aj)\n",
       "───── - ───────────────────────────────────\n",
       "  aj                    aj⋅ρ               "
      ]
     },
     "execution_count": 193,
     "metadata": {},
     "output_type": "execute_result"
    }
   ],
   "source": [
    "vj_expr"
   ]
  },
  {
   "cell_type": "code",
   "execution_count": 194,
   "metadata": {},
   "outputs": [
    {
     "data": {
      "image/png": "[encoded data removed]",
      "text/latex": [
       "$\\displaystyle \\frac{a_{2} \\rho v_{2} - \\sqrt{\\rho \\left(\\Delta_{p} + 0.5 \\rho v_{1}^{2} + \\rho v_{2}^{2}\\right)} \\left(a_{2} - aj\\right)}{a_{2} \\rho v_{2} - \\sqrt{\\rho \\left(\\Delta_{p} + 0.5 \\rho v_{1}^{2} + \\rho v_{2}^{2}\\right)} \\left(a_{2} - aj\\right) + \\sqrt{\\rho \\left(\\Delta_{p} + 0.5 \\rho v_{1}^{2} + \\rho v_{2}^{2}\\right)} \\left(v_{2} - vj\\right)}$"
      ],
      "text/plain": [
       "                                   ____________________________               \n",
       "                                  ╱   ⎛             2       2⎞                \n",
       "                      a₂⋅ρ⋅v₂ - ╲╱  ρ⋅⎝Δₚ + 0.5⋅ρ⋅v₁  + ρ⋅v₂ ⎠ ⋅(a₂ - aj)     \n",
       "──────────────────────────────────────────────────────────────────────────────\n",
       "             ____________________________                _____________________\n",
       "            ╱   ⎛             2       2⎞                ╱   ⎛             2   \n",
       "a₂⋅ρ⋅v₂ - ╲╱  ρ⋅⎝Δₚ + 0.5⋅ρ⋅v₁  + ρ⋅v₂ ⎠ ⋅(a₂ - aj) + ╲╱  ρ⋅⎝Δₚ + 0.5⋅ρ⋅v₁  + \n",
       "\n",
       "                 \n",
       "                 \n",
       "                 \n",
       "─────────────────\n",
       "_______          \n",
       "    2⎞           \n",
       "ρ⋅v₂ ⎠ ⋅(v₂ - vj)"
      ]
     },
     "execution_count": 194,
     "metadata": {},
     "output_type": "execute_result"
    }
   ],
   "source": [
    "F = aj*vj_expr / (aj*vj_expr + (v2-vj)*v1_expr)\n",
    "F = F.subs(p1, pa - 1/2*rho*v1**2)\n",
    "F = F.subs(pb, pa + Delta_p)\n",
    "simplify(F)"
   ]
  }
 ],
 "metadata": {
  "kernelspec": {
   "display_name": "Python 3",
   "language": "python",
   "name": "python3"
  },
  "language_info": {
   "codemirror_mode": {
    "name": "ipython",
    "version": 3
   },
   "file_extension": ".py",
   "mimetype": "text/x-python",
   "name": "python",
   "nbconvert_exporter": "python",
   "pygments_lexer": "ipython3",
   "version": "3.7.7"
  }
 },
 "nbformat": 4,
 "nbformat_minor": 4
}
